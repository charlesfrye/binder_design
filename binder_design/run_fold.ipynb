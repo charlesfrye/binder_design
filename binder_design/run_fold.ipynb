{
 "cells": [
  {
   "cell_type": "code",
   "execution_count": 8,
   "metadata": {},
   "outputs": [
    {
     "name": "stdout",
     "output_type": "stream",
     "text": [
      "The autoreload extension is already loaded. To reload it, use:\n",
      "  %reload_ext autoreload\n"
     ]
    }
   ],
   "source": [
    "import modal\n",
    "from modal_colabfold import generate_a3m_files\n",
    "import pandas as pd\n",
    "from binder_design import EGFS, FOLD_RESULTS_DIR, PEPMLM_RESULTS_DIR, DATA_DIR\n",
    "from binder_design.utils import get_mutation_diff, hash_seq\n",
    "from datetime import datetime\n",
    "%load_ext autoreload\n",
    "%autoreload 2\n",
    "\n",
    "fold = modal.Function.lookup(\"colabfold\", 'fold_and_extract')\n",
    "parallel_fold = modal.Function.lookup(\"colabfold\", 'parallel_fold_and_extract')"
   ]
  },
  {
   "cell_type": "code",
   "execution_count": 2,
   "metadata": {},
   "outputs": [],
   "source": [
    "def mutate_seq(seq, position, new_aa):\n",
    "    return seq[:position-1] + new_aa + seq[position:]\n",
    "\n",
    "def apply_mutation(seq, mutation_str):\n",
    "    new_aa = mutation_str[-1]\n",
    "    position = int(mutation_str[:-1])\n",
    "    return mutate_seq(seq, position, new_aa)\n",
    "\n",
    "egfs = 'NSYPGCPSSYDGYCLNGGVCMHIESLDSYTCNCVIGYSGDRCQTRDLRWW'\n",
    "\n",
    "mutations = [\n",
    "    '2W',\n",
    "    '2A',\n",
    "    # '2B',\n",
    "    # '2C',\n",
    "    ]\n",
    "seqs = {}\n",
    "for mutation in mutations:\n",
    "    seq = apply_mutation(egfs, mutation)\n",
    "    seqs[f'egfs_{mutation}'] = seq\n",
    "    \n",
    "results = list(parallel_fold.remote(binder_sequences=seqs, batch_size=1, num_recycle=1, num_models=1))\n",
    "fold_df['mut_str'] = fold_df['binder_sequence'].apply(get_mutation_diff, seq2=EGFS)\n",
    "fold_df['seq_name'] = fold_df['binder_sequence'].apply(hash_seq)\n",
    "now = datetime.now().strftime('%Y%m%d_%H%M%S')\n",
    "fp = FOLD_RESULTS_DIR / f'fold_results_{now}.csv'\n",
    "# save the fold_df\n",
    "fold_df.to_csv(fp, index=False)"
   ]
  },
  {
   "cell_type": "code",
   "execution_count": 4,
   "metadata": {},
   "outputs": [],
   "source": [
    "# generate_a3m_files(\n",
    "#     binder_sequences=seqs,\n",
    "#     output_folder='test',\n",
    "#     )"
   ]
  },
  {
   "cell_type": "code",
   "execution_count": 64,
   "metadata": {},
   "outputs": [],
   "source": [
    "\n",
    "results = fold.remote(binder_sequences=seqs)"
   ]
  },
  {
   "cell_type": "code",
   "execution_count": 68,
   "metadata": {},
   "outputs": [],
   "source": [
    "fold_df = pd.DataFrame(results)"
   ]
  },
  {
   "cell_type": "code",
   "execution_count": null,
   "metadata": {},
   "outputs": [],
   "source": []
  },
  {
   "cell_type": "code",
   "execution_count": 74,
   "metadata": {},
   "outputs": [],
   "source": [
    "fold_df['mut_str'] = fold_df['binder_sequence'].apply(get_mutation_diff, seq2=EGFS)\n",
    "fold_df['seq_name'] = fold_df['binder_sequence'].apply(hash_seq)\n",
    "now = datetime.now().strftime('%Y%m%d_%H%M%S')\n",
    "fp = FOLD_RESULTS_DIR / f'fold_results_{now}.csv'\n",
    "# save the fold_df\n",
    "fold_df.to_csv(fp, index=False)"
   ]
  },
  {
   "cell_type": "code",
   "execution_count": 4,
   "metadata": {},
   "outputs": [],
   "source": [
    "results = list(parallel_fold.remote(binder_sequences=seqs, batch_size=1, num_recycle=1, num_models=1))"
   ]
  },
  {
   "cell_type": "code",
   "execution_count": 5,
   "metadata": {},
   "outputs": [],
   "source": [
    "fold_df = pd.DataFrame(results)"
   ]
  },
  {
   "cell_type": "code",
   "execution_count": 6,
   "metadata": {},
   "outputs": [
    {
     "data": {
      "text/html": [
       "<div>\n",
       "<style scoped>\n",
       "    .dataframe tbody tr th:only-of-type {\n",
       "        vertical-align: middle;\n",
       "    }\n",
       "\n",
       "    .dataframe tbody tr th {\n",
       "        vertical-align: top;\n",
       "    }\n",
       "\n",
       "    .dataframe thead th {\n",
       "        text-align: right;\n",
       "    }\n",
       "</style>\n",
       "<table border=\"1\" class=\"dataframe\">\n",
       "  <thead>\n",
       "    <tr style=\"text-align: right;\">\n",
       "      <th></th>\n",
       "      <th>seq_name</th>\n",
       "      <th>binder_sequence</th>\n",
       "      <th>target_sequence</th>\n",
       "      <th>binder_length</th>\n",
       "      <th>target_length</th>\n",
       "      <th>model_number</th>\n",
       "      <th>binder_plddt</th>\n",
       "      <th>binder_pae</th>\n",
       "      <th>pae_interaction</th>\n",
       "      <th>ptm</th>\n",
       "      <th>seq_id</th>\n",
       "      <th>pdb_content</th>\n",
       "    </tr>\n",
       "  </thead>\n",
       "  <tbody>\n",
       "    <tr>\n",
       "      <th>0</th>\n",
       "      <td>egfs_2W</td>\n",
       "      <td>NWYPGCPSSYDGYCLNGGVCMHIESLDSYTCNCVIGYSGDRCQTRD...</td>\n",
       "      <td>LEEKKVCQGTSNKLTQLGTFEDHFLSLQRMFNNCEVVLGNLEITYV...</td>\n",
       "      <td>50</td>\n",
       "      <td>622</td>\n",
       "      <td>1</td>\n",
       "      <td>86.3494</td>\n",
       "      <td>4.57626</td>\n",
       "      <td>9.260557</td>\n",
       "      <td>0.84</td>\n",
       "      <td>8a6e27</td>\n",
       "      <td>MODEL     1                                   ...</td>\n",
       "    </tr>\n",
       "    <tr>\n",
       "      <th>1</th>\n",
       "      <td>egfs_2A</td>\n",
       "      <td>NAYPGCPSSYDGYCLNGGVCMHIESLDSYTCNCVIGYSGDRCQTRD...</td>\n",
       "      <td>LEEKKVCQGTSNKLTQLGTFEDHFLSLQRMFNNCEVVLGNLEITYV...</td>\n",
       "      <td>50</td>\n",
       "      <td>622</td>\n",
       "      <td>1</td>\n",
       "      <td>86.6950</td>\n",
       "      <td>4.53488</td>\n",
       "      <td>9.224025</td>\n",
       "      <td>0.84</td>\n",
       "      <td>bdeb0c</td>\n",
       "      <td>MODEL     1                                   ...</td>\n",
       "    </tr>\n",
       "  </tbody>\n",
       "</table>\n",
       "</div>"
      ],
      "text/plain": [
       "  seq_name                                    binder_sequence  \\\n",
       "0  egfs_2W  NWYPGCPSSYDGYCLNGGVCMHIESLDSYTCNCVIGYSGDRCQTRD...   \n",
       "1  egfs_2A  NAYPGCPSSYDGYCLNGGVCMHIESLDSYTCNCVIGYSGDRCQTRD...   \n",
       "\n",
       "                                     target_sequence  binder_length  \\\n",
       "0  LEEKKVCQGTSNKLTQLGTFEDHFLSLQRMFNNCEVVLGNLEITYV...             50   \n",
       "1  LEEKKVCQGTSNKLTQLGTFEDHFLSLQRMFNNCEVVLGNLEITYV...             50   \n",
       "\n",
       "   target_length  model_number  binder_plddt  binder_pae  pae_interaction  \\\n",
       "0            622             1       86.3494     4.57626         9.260557   \n",
       "1            622             1       86.6950     4.53488         9.224025   \n",
       "\n",
       "    ptm  seq_id                                        pdb_content  \n",
       "0  0.84  8a6e27  MODEL     1                                   ...  \n",
       "1  0.84  bdeb0c  MODEL     1                                   ...  "
      ]
     },
     "execution_count": 6,
     "metadata": {},
     "output_type": "execute_result"
    }
   ],
   "source": [
    "fold_df"
   ]
  },
  {
   "cell_type": "code",
   "execution_count": 7,
   "metadata": {},
   "outputs": [
    {
     "ename": "NameError",
     "evalue": "name 'logger' is not defined",
     "output_type": "error",
     "traceback": [
      "\u001b[0;31m---------------------------------------------------------------------------\u001b[0m",
      "\u001b[0;31mNameError\u001b[0m                                 Traceback (most recent call last)",
      "Cell \u001b[0;32mIn[7], line 9\u001b[0m\n\u001b[1;32m      7\u001b[0m fp \u001b[38;5;241m=\u001b[39m FOLD_RESULTS_DIR \u001b[38;5;241m/\u001b[39m \u001b[38;5;124mf\u001b[39m\u001b[38;5;124m'\u001b[39m\u001b[38;5;124mfold_results_\u001b[39m\u001b[38;5;132;01m{\u001b[39;00mnow\u001b[38;5;132;01m}\u001b[39;00m\u001b[38;5;124m.csv\u001b[39m\u001b[38;5;124m'\u001b[39m\n\u001b[1;32m      8\u001b[0m fold_df\u001b[38;5;241m.\u001b[39mto_csv(fp, index\u001b[38;5;241m=\u001b[39m\u001b[38;5;28;01mFalse\u001b[39;00m)\n\u001b[0;32m----> 9\u001b[0m \u001b[43mlogger\u001b[49m\u001b[38;5;241m.\u001b[39minfo(\u001b[38;5;124mf\u001b[39m\u001b[38;5;124m\"\u001b[39m\u001b[38;5;124mSaved fold results to \u001b[39m\u001b[38;5;132;01m{\u001b[39;00mfp\u001b[38;5;132;01m}\u001b[39;00m\u001b[38;5;124m\"\u001b[39m)\n",
      "\u001b[0;31mNameError\u001b[0m: name 'logger' is not defined"
     ]
    }
   ],
   "source": [
    "fold_df['seq_name'] = fold_df['binder_sequence'].apply(hash_seq)\n",
    "fold_df = fold_df.sort_values(by='pae_interaction', ascending=True).reset_index(drop=True)\n",
    "fold_df['generation'] = None\n",
    "\n",
    "# Save the fold results\n",
    "now = datetime.now().strftime('%Y%m%d_%H%M%S')\n",
    "fp = FOLD_RESULTS_DIR / f'fold_results_{now}.csv'\n",
    "fold_df.to_csv(fp, index=False)"
   ]
  },
  {
   "cell_type": "code",
   "execution_count": 11,
   "metadata": {},
   "outputs": [],
   "source": [
    "import pandas as pd\n",
    "df = pd.DataFrame(results)"
   ]
  },
  {
   "cell_type": "code",
   "execution_count": 14,
   "metadata": {},
   "outputs": [
    {
     "data": {
      "text/plain": [
       "seq_name\n",
       "egfs_2C    9.170334\n",
       "egfs_2W    9.060102\n",
       "Name: pae_interaction, dtype: float64"
      ]
     },
     "execution_count": 14,
     "metadata": {},
     "output_type": "execute_result"
    }
   ],
   "source": [
    "df.groupby('seq_name')['pae_interaction'].mean()"
   ]
  },
  {
   "cell_type": "code",
   "execution_count": 40,
   "metadata": {},
   "outputs": [],
   "source": [
    "pepmlms = pd.read_csv('/Users/alex/code/binder_design/data/pepmlm_binders_gen1_20240818_032509.csv')"
   ]
  },
  {
   "cell_type": "code",
   "execution_count": 32,
   "metadata": {},
   "outputs": [],
   "source": [
    "pepmlms['name'] = 'EGFS__' + pepmlms['mutation'].str.replace(',', '_')"
   ]
  },
  {
   "cell_type": "code",
   "execution_count": 33,
   "metadata": {},
   "outputs": [],
   "source": [
    "seqs = pepmlms.set_index('name')['binder'].head(4).to_dict()"
   ]
  },
  {
   "cell_type": "code",
   "execution_count": 34,
   "metadata": {},
   "outputs": [
    {
     "data": {
      "text/plain": [
       "{'EGFS__L15G_I35H_L47G': 'NSYPGCPSSYDGYCGNGGVCMHIESLDSYTCNCVHGYSGDRCQTRDGRWW',\n",
       " 'EGFS__M21T_I35P': 'NSYPGCPSSYDGYCLNGGVCTHIESLDSYTCNCVPGYSGDRCQTRDLRWW',\n",
       " 'EGFS__P7L_L15A_I35P': 'NSYPGCLSSYDGYCANGGVCMHIESLDSYTCNCVPGYSGDRCQTRDLRWW',\n",
       " 'EGFS__V34A_I35H_W50L': 'NSYPGCPSSYDGYCLNGGVCMHIESLDSYTCNCAHGYSGDRCQTRDLRWL'}"
      ]
     },
     "execution_count": 34,
     "metadata": {},
     "output_type": "execute_result"
    }
   ],
   "source": [
    "seqs"
   ]
  },
  {
   "cell_type": "code",
   "execution_count": 35,
   "metadata": {},
   "outputs": [],
   "source": [
    "pepmlm_results = list(parallel_fold.remote(binder_sequences=seqs, batch_size=1))"
   ]
  },
  {
   "cell_type": "code",
   "execution_count": 38,
   "metadata": {},
   "outputs": [],
   "source": [
    "pepmlm_df = pd.DataFrame(pepmlm_results)"
   ]
  },
  {
   "cell_type": "code",
   "execution_count": 39,
   "metadata": {},
   "outputs": [
    {
     "data": {
      "text/plain": [
       "seq_name\n",
       "EGFS__L15G_I35H_L47G    10.088727\n",
       "EGFS__M21T_I35P          9.313959\n",
       "EGFS__P7L_L15A_I35P      9.592177\n",
       "EGFS__V34A_I35H_W50L     8.707573\n",
       "Name: pae_interaction, dtype: float64"
      ]
     },
     "execution_count": 39,
     "metadata": {},
     "output_type": "execute_result"
    }
   ],
   "source": [
    "pepmlm_df.groupby('seq_name')['pae_interaction'].mean()"
   ]
  },
  {
   "cell_type": "code",
   "execution_count": 32,
   "metadata": {},
   "outputs": [],
   "source": [
    "import re\n",
    "\n",
    "csvs = list(PEPMLM_RESULTS_DIR.glob('*.csv'))\n",
    "dfs = []\n",
    "for csv in csvs:\n",
    "    _df = pd.read_csv(csv)\n",
    "    match = re.search(r'gen(\\d+)', str(csv))\n",
    "    if match:\n",
    "        gen_num = int(match.group(1))\n",
    "    else:\n",
    "        gen_num = None\n",
    "    _df['generation'] = gen_num\n",
    "    dfs.append(_df)\n",
    "pepmlm_df = pd.concat(dfs).sort_values('ppl').reset_index(drop=True)"
   ]
  },
  {
   "cell_type": "code",
   "execution_count": 43,
   "metadata": {},
   "outputs": [],
   "source": [
    "pepmlm_df['mutation'] = pepmlm_df['binder'].apply(get_mutation_diff, seq2=EGFS)"
   ]
  },
  {
   "cell_type": "code",
   "execution_count": 34,
   "metadata": {},
   "outputs": [
    {
     "data": {
      "text/plain": [
       "<Axes: xlabel='generation', ylabel='ppl'>"
      ]
     },
     "execution_count": 34,
     "metadata": {},
     "output_type": "execute_result"
    },
    {
     "data": {
      "image/png": "[encoded data removed]",
      "text/plain": [
       "<Figure size 640x480 with 1 Axes>"
      ]
     },
     "metadata": {},
     "output_type": "display_data"
    }
   ],
   "source": [
    "import seaborn as sns\n",
    "import matplotlib.pyplot as plt\n",
    "\n",
    "sns.scatterplot(data=pepmlm_df, x='generation', y='ppl')\n"
   ]
  },
  {
   "cell_type": "code",
   "execution_count": 35,
   "metadata": {},
   "outputs": [
    {
     "data": {
      "text/plain": [
       "<Axes: xlabel='generation', ylabel='ppl'>"
      ]
     },
     "execution_count": 35,
     "metadata": {},
     "output_type": "execute_result"
    },
    {
     "data": {
      "image/png": "[encoded data removed]",
      "text/plain": [
       "<Figure size 640x480 with 1 Axes>"
      ]
     },
     "metadata": {},
     "output_type": "display_data"
    }
   ],
   "source": [
    "sns.scatterplot(data=pepmlm_df[~pepmlm_df.binder.str.contains('X')], x='generation', y='ppl')"
   ]
  },
  {
   "cell_type": "code",
   "execution_count": 44,
   "metadata": {},
   "outputs": [],
   "source": [
    "good_df = pepmlm_df[~pepmlm_df.binder.str.contains('X')]"
   ]
  },
  {
   "cell_type": "code",
   "execution_count": 52,
   "metadata": {},
   "outputs": [
    {
     "data": {
      "text/html": [
       "<div>\n",
       "<style scoped>\n",
       "    .dataframe tbody tr th:only-of-type {\n",
       "        vertical-align: middle;\n",
       "    }\n",
       "\n",
       "    .dataframe tbody tr th {\n",
       "        vertical-align: top;\n",
       "    }\n",
       "\n",
       "    .dataframe thead th {\n",
       "        text-align: right;\n",
       "    }\n",
       "</style>\n",
       "<table border=\"1\" class=\"dataframe\">\n",
       "  <thead>\n",
       "    <tr style=\"text-align: right;\">\n",
       "      <th></th>\n",
       "      <th>target_seq</th>\n",
       "      <th>parent_binder</th>\n",
       "      <th>binder</th>\n",
       "      <th>ppl</th>\n",
       "      <th>mask_positions</th>\n",
       "      <th>mutation</th>\n",
       "      <th>timestamp</th>\n",
       "      <th>generation</th>\n",
       "    </tr>\n",
       "  </thead>\n",
       "  <tbody>\n",
       "    <tr>\n",
       "      <th>57186</th>\n",
       "      <td>LEEKKVCQGTSNKLTQLGTFEDHFLSLQRMFNNCEVVLGNLEITYV...</td>\n",
       "      <td>NSYPGCPSSYDGYCLNGGVCMHIESLDSYTCNCVIGYSGDRCQTRD...</td>\n",
       "      <td>NSYPGCPSSYDGYCGNGGVCMHIESLDSYTCNCVHGYSGDRCQTRD...</td>\n",
       "      <td>24.861686</td>\n",
       "      <td>14,34,46</td>\n",
       "      <td>G15L,H35I,G47L</td>\n",
       "      <td>2024-08-18 10:24:29</td>\n",
       "      <td>1</td>\n",
       "    </tr>\n",
       "    <tr>\n",
       "      <th>57646</th>\n",
       "      <td>LEEKKVCQGTSNKLTQLGTFEDHFLSLQRMFNNCEVVLGNLEITYV...</td>\n",
       "      <td>NSYPGCPSSYDGYCLNGGVCMHIESLDSYTCNCVIGYSGDRCQTRD...</td>\n",
       "      <td>NSYPGCPSSYDGYCLNGGVCTHIESLDSYTCNCVPGYSGDRCQTRD...</td>\n",
       "      <td>26.225159</td>\n",
       "      <td>24,20,34</td>\n",
       "      <td>T21M,P35I</td>\n",
       "      <td>2024-08-18 10:24:33</td>\n",
       "      <td>1</td>\n",
       "    </tr>\n",
       "    <tr>\n",
       "      <th>58129</th>\n",
       "      <td>LEEKKVCQGTSNKLTQLGTFEDHFLSLQRMFNNCEVVLGNLEITYV...</td>\n",
       "      <td>NSYPGCPSSYDGYCLNGGVCMHIESLDSYTCNCVIGYSGDRCQTRD...</td>\n",
       "      <td>NSYPGCLSSYDGYCANGGVCMHIESLDSYTCNCVPGYSGDRCQTRD...</td>\n",
       "      <td>28.072532</td>\n",
       "      <td>14,6,34</td>\n",
       "      <td>L7P,A15L,P35I</td>\n",
       "      <td>2024-08-18 10:24:41</td>\n",
       "      <td>1</td>\n",
       "    </tr>\n",
       "    <tr>\n",
       "      <th>58222</th>\n",
       "      <td>LEEKKVCQGTSNKLTQLGTFEDHFLSLQRMFNNCEVVLGNLEITYV...</td>\n",
       "      <td>NSYPGCPSSYDGYCLNGGVCMHIESLDSYTCNCVIGYSGDRCQTRD...</td>\n",
       "      <td>NSYPGCPSSYDGYCLNGGVCMHIESLDSYTCNCAHGYSGDRCQTRD...</td>\n",
       "      <td>28.450214</td>\n",
       "      <td>33,34,49</td>\n",
       "      <td>A34V,H35I,L50W</td>\n",
       "      <td>2024-08-18 10:24:36</td>\n",
       "      <td>1</td>\n",
       "    </tr>\n",
       "    <tr>\n",
       "      <th>58223</th>\n",
       "      <td>LEEKKVCQGTSNKLTQLGTFEDHFLSLQRMFNNCEVVLGNLEITYV...</td>\n",
       "      <td>NSYPGCPSSYDGYCLNGGVCMHIESLDSYTCNCVIGYSGDRCQTRD...</td>\n",
       "      <td>NSYPGCPSSYDGYCLNGGVCMHIESLDSYTCNCVPGYSGDRHQTRV...</td>\n",
       "      <td>28.453512</td>\n",
       "      <td>41,34,45</td>\n",
       "      <td>P35I,H42C,V46D</td>\n",
       "      <td>2024-08-18 10:24:41</td>\n",
       "      <td>1</td>\n",
       "    </tr>\n",
       "    <tr>\n",
       "      <th>58257</th>\n",
       "      <td>LEEKKVCQGTSNKLTQLGTFEDHFLSLQRMFNNCEVVLGNLEITYV...</td>\n",
       "      <td>NSYPGCPSSYDGYCLNGGVCMHIESLDSYTCNCVIGYSGDRCQTRD...</td>\n",
       "      <td>NHYPGCPSSYDGYCLNGGVCMHIESLDSYTCNCVPGYSGDRCATRD...</td>\n",
       "      <td>28.604040</td>\n",
       "      <td>1,34,42</td>\n",
       "      <td>H2S,P35I,A43Q</td>\n",
       "      <td>2024-08-18 10:24:23</td>\n",
       "      <td>1</td>\n",
       "    </tr>\n",
       "    <tr>\n",
       "      <th>58301</th>\n",
       "      <td>LEEKKVCQGTSNKLTQLGTFEDHFLSLQRMFNNCEVVLGNLEITYV...</td>\n",
       "      <td>NSYPGCPSSYDGYCLNGGVCMHIESLDSYTCNCVIGYSGDRCQTRD...</td>\n",
       "      <td>NSYPGCPSSYDGYCLNGGVCMHIESLDSYTCNCVHGYSGDRCQTRD...</td>\n",
       "      <td>28.810567</td>\n",
       "      <td>34,48</td>\n",
       "      <td>H35I,T49W</td>\n",
       "      <td>2024-08-18 10:42:11</td>\n",
       "      <td>1</td>\n",
       "    </tr>\n",
       "    <tr>\n",
       "      <th>58319</th>\n",
       "      <td>LEEKKVCQGTSNKLTQLGTFEDHFLSLQRMFNNCEVVLGNLEITYV...</td>\n",
       "      <td>NSYPGCPSSYDGYCLNGGVCMHIESLDSYTCNCVIGYSGDRCQTRD...</td>\n",
       "      <td>NSYPGCPSSYDGYCLNGSVCMHIESLDSYTCNCVPGYSGDRCQTRD...</td>\n",
       "      <td>28.901980</td>\n",
       "      <td>17,34</td>\n",
       "      <td>S18G,P35I</td>\n",
       "      <td>2024-08-18 10:42:13</td>\n",
       "      <td>1</td>\n",
       "    </tr>\n",
       "    <tr>\n",
       "      <th>58340</th>\n",
       "      <td>LEEKKVCQGTSNKLTQLGTFEDHFLSLQRMFNNCEVVLGNLEITYV...</td>\n",
       "      <td>NSYPGCPSSYDGYCLNGGVCMHIESLDSYTCNCVIGYSGDRCQTRD...</td>\n",
       "      <td>NSYPGCPSSYDGYCLNGGVCMHIESLDSYTCNCVPGYSGDRVQTRE...</td>\n",
       "      <td>28.980745</td>\n",
       "      <td>45,34,41</td>\n",
       "      <td>P35I,V42C,E46D</td>\n",
       "      <td>2024-08-18 10:25:08</td>\n",
       "      <td>1</td>\n",
       "    </tr>\n",
       "    <tr>\n",
       "      <th>58375</th>\n",
       "      <td>LEEKKVCQGTSNKLTQLGTFEDHFLSLQRMFNNCEVVLGNLEITYV...</td>\n",
       "      <td>NSYPGCPSSYDGYCLNGGVCMHIESLDSYTCNCVIGYSGDRCQTRD...</td>\n",
       "      <td>NSYPGCKSSYPGYCLNGGVCMHIESLDSYTCNCVPGYSGDRCQTRD...</td>\n",
       "      <td>29.151650</td>\n",
       "      <td>10,6,34</td>\n",
       "      <td>K7P,P11D,P35I</td>\n",
       "      <td>2024-08-18 10:24:33</td>\n",
       "      <td>1</td>\n",
       "    </tr>\n",
       "  </tbody>\n",
       "</table>\n",
       "</div>"
      ],
      "text/plain": [
       "                                              target_seq  \\\n",
       "57186  LEEKKVCQGTSNKLTQLGTFEDHFLSLQRMFNNCEVVLGNLEITYV...   \n",
       "57646  LEEKKVCQGTSNKLTQLGTFEDHFLSLQRMFNNCEVVLGNLEITYV...   \n",
       "58129  LEEKKVCQGTSNKLTQLGTFEDHFLSLQRMFNNCEVVLGNLEITYV...   \n",
       "58222  LEEKKVCQGTSNKLTQLGTFEDHFLSLQRMFNNCEVVLGNLEITYV...   \n",
       "58223  LEEKKVCQGTSNKLTQLGTFEDHFLSLQRMFNNCEVVLGNLEITYV...   \n",
       "58257  LEEKKVCQGTSNKLTQLGTFEDHFLSLQRMFNNCEVVLGNLEITYV...   \n",
       "58301  LEEKKVCQGTSNKLTQLGTFEDHFLSLQRMFNNCEVVLGNLEITYV...   \n",
       "58319  LEEKKVCQGTSNKLTQLGTFEDHFLSLQRMFNNCEVVLGNLEITYV...   \n",
       "58340  LEEKKVCQGTSNKLTQLGTFEDHFLSLQRMFNNCEVVLGNLEITYV...   \n",
       "58375  LEEKKVCQGTSNKLTQLGTFEDHFLSLQRMFNNCEVVLGNLEITYV...   \n",
       "\n",
       "                                           parent_binder  \\\n",
       "57186  NSYPGCPSSYDGYCLNGGVCMHIESLDSYTCNCVIGYSGDRCQTRD...   \n",
       "57646  NSYPGCPSSYDGYCLNGGVCMHIESLDSYTCNCVIGYSGDRCQTRD...   \n",
       "58129  NSYPGCPSSYDGYCLNGGVCMHIESLDSYTCNCVIGYSGDRCQTRD...   \n",
       "58222  NSYPGCPSSYDGYCLNGGVCMHIESLDSYTCNCVIGYSGDRCQTRD...   \n",
       "58223  NSYPGCPSSYDGYCLNGGVCMHIESLDSYTCNCVIGYSGDRCQTRD...   \n",
       "58257  NSYPGCPSSYDGYCLNGGVCMHIESLDSYTCNCVIGYSGDRCQTRD...   \n",
       "58301  NSYPGCPSSYDGYCLNGGVCMHIESLDSYTCNCVIGYSGDRCQTRD...   \n",
       "58319  NSYPGCPSSYDGYCLNGGVCMHIESLDSYTCNCVIGYSGDRCQTRD...   \n",
       "58340  NSYPGCPSSYDGYCLNGGVCMHIESLDSYTCNCVIGYSGDRCQTRD...   \n",
       "58375  NSYPGCPSSYDGYCLNGGVCMHIESLDSYTCNCVIGYSGDRCQTRD...   \n",
       "\n",
       "                                                  binder        ppl  \\\n",
       "57186  NSYPGCPSSYDGYCGNGGVCMHIESLDSYTCNCVHGYSGDRCQTRD...  24.861686   \n",
       "57646  NSYPGCPSSYDGYCLNGGVCTHIESLDSYTCNCVPGYSGDRCQTRD...  26.225159   \n",
       "58129  NSYPGCLSSYDGYCANGGVCMHIESLDSYTCNCVPGYSGDRCQTRD...  28.072532   \n",
       "58222  NSYPGCPSSYDGYCLNGGVCMHIESLDSYTCNCAHGYSGDRCQTRD...  28.450214   \n",
       "58223  NSYPGCPSSYDGYCLNGGVCMHIESLDSYTCNCVPGYSGDRHQTRV...  28.453512   \n",
       "58257  NHYPGCPSSYDGYCLNGGVCMHIESLDSYTCNCVPGYSGDRCATRD...  28.604040   \n",
       "58301  NSYPGCPSSYDGYCLNGGVCMHIESLDSYTCNCVHGYSGDRCQTRD...  28.810567   \n",
       "58319  NSYPGCPSSYDGYCLNGSVCMHIESLDSYTCNCVPGYSGDRCQTRD...  28.901980   \n",
       "58340  NSYPGCPSSYDGYCLNGGVCMHIESLDSYTCNCVPGYSGDRVQTRE...  28.980745   \n",
       "58375  NSYPGCKSSYPGYCLNGGVCMHIESLDSYTCNCVPGYSGDRCQTRD...  29.151650   \n",
       "\n",
       "      mask_positions        mutation            timestamp generation  \n",
       "57186       14,34,46  G15L,H35I,G47L  2024-08-18 10:24:29          1  \n",
       "57646       24,20,34       T21M,P35I  2024-08-18 10:24:33          1  \n",
       "58129        14,6,34   L7P,A15L,P35I  2024-08-18 10:24:41          1  \n",
       "58222       33,34,49  A34V,H35I,L50W  2024-08-18 10:24:36          1  \n",
       "58223       41,34,45  P35I,H42C,V46D  2024-08-18 10:24:41          1  \n",
       "58257        1,34,42   H2S,P35I,A43Q  2024-08-18 10:24:23          1  \n",
       "58301          34,48       H35I,T49W  2024-08-18 10:42:11          1  \n",
       "58319          17,34       S18G,P35I  2024-08-18 10:42:13          1  \n",
       "58340       45,34,41  P35I,V42C,E46D  2024-08-18 10:25:08          1  \n",
       "58375        10,6,34   K7P,P11D,P35I  2024-08-18 10:24:33          1  "
      ]
     },
     "execution_count": 52,
     "metadata": {},
     "output_type": "execute_result"
    }
   ],
   "source": [
    "filtered = good_df.query('generation == 1').drop_duplicates(subset=['binder']).sort_values('ppl', ascending=True).head(10)\n",
    "new_binders = filtered['binder'].to_list()\n",
    "filtered"
   ]
  },
  {
   "cell_type": "code",
   "execution_count": 55,
   "metadata": {},
   "outputs": [
    {
     "data": {
      "text/plain": [
       "{'52a69d': 'NSYPGCPSSYDGYCGNGGVCMHIESLDSYTCNCVHGYSGDRCQTRDGRWW',\n",
       " '219bfb': 'NSYPGCPSSYDGYCLNGGVCTHIESLDSYTCNCVPGYSGDRCQTRDLRWW',\n",
       " '6d4273': 'NSYPGCLSSYDGYCANGGVCMHIESLDSYTCNCVPGYSGDRCQTRDLRWW',\n",
       " 'dcc405': 'NSYPGCPSSYDGYCLNGGVCMHIESLDSYTCNCAHGYSGDRCQTRDLRWL',\n",
       " '507cf0': 'NSYPGCPSSYDGYCLNGGVCMHIESLDSYTCNCVPGYSGDRHQTRVLRWW',\n",
       " 'fe1047': 'NHYPGCPSSYDGYCLNGGVCMHIESLDSYTCNCVPGYSGDRCATRDLRWW',\n",
       " '2ef3f1': 'NSYPGCPSSYDGYCLNGGVCMHIESLDSYTCNCVHGYSGDRCQTRDLRTW',\n",
       " '7d4364': 'NSYPGCPSSYDGYCLNGSVCMHIESLDSYTCNCVPGYSGDRCQTRDLRWW',\n",
       " '93bc7b': 'NSYPGCPSSYDGYCLNGGVCMHIESLDSYTCNCVPGYSGDRVQTRELRWW',\n",
       " '97adf3': 'NSYPGCKSSYPGYCLNGGVCMHIESLDSYTCNCVPGYSGDRCQTRDLRWW'}"
      ]
     },
     "execution_count": 55,
     "metadata": {},
     "output_type": "execute_result"
    }
   ],
   "source": [
    "new_binders"
   ]
  },
  {
   "cell_type": "code",
   "execution_count": 53,
   "metadata": {},
   "outputs": [],
   "source": [
    "new_binders = {hash_seq(binder): binder for binder in new_binders}"
   ]
  },
  {
   "cell_type": "code",
   "execution_count": null,
   "metadata": {},
   "outputs": [],
   "source": [
    "results = parallel_fold.remote(binder_sequences=new_binders, num_models=1, batch_size=1)"
   ]
  },
  {
   "cell_type": "code",
   "execution_count": null,
   "metadata": {},
   "outputs": [],
   "source": [
    "fold_df = pd.DataFrame(results)\n",
    "fold_df['mut_str'] = fold_df['binder_sequence'].apply(get_mutation_diff, seq2=EGFS)\n",
    "fold_df['seq_name'] = fold_df['binder_sequence'].apply(hash_seq)\n",
    "now = datetime.now().strftime('%Y%m%d_%H%M%S')\n",
    "fp = FOLD_RESULTS_DIR / f'fold_results_{now}.csv'\n",
    "fold_df.to_csv(fp, index=False)"
   ]
  },
  {
   "cell_type": "code",
   "execution_count": 56,
   "metadata": {},
   "outputs": [
    {
     "data": {
      "text/html": [
       "<div>\n",
       "<style scoped>\n",
       "    .dataframe tbody tr th:only-of-type {\n",
       "        vertical-align: middle;\n",
       "    }\n",
       "\n",
       "    .dataframe tbody tr th {\n",
       "        vertical-align: top;\n",
       "    }\n",
       "\n",
       "    .dataframe thead th {\n",
       "        text-align: right;\n",
       "    }\n",
       "</style>\n",
       "<table border=\"1\" class=\"dataframe\">\n",
       "  <thead>\n",
       "    <tr style=\"text-align: right;\">\n",
       "      <th></th>\n",
       "      <th>seq_name</th>\n",
       "      <th>binder_sequence</th>\n",
       "      <th>target_sequence</th>\n",
       "      <th>binder_length</th>\n",
       "      <th>target_length</th>\n",
       "      <th>model_number</th>\n",
       "      <th>binder_plddt</th>\n",
       "      <th>binder_pae</th>\n",
       "      <th>pae_interaction</th>\n",
       "      <th>ptm</th>\n",
       "      <th>pdb_content</th>\n",
       "      <th>mut_str</th>\n",
       "    </tr>\n",
       "  </thead>\n",
       "  <tbody>\n",
       "    <tr>\n",
       "      <th>0</th>\n",
       "      <td>1d1721</td>\n",
       "      <td>NAYPGCPGSFDGYCPNGGVCTHIESTDCFTCECLPGYSGDTVHTRA...</td>\n",
       "      <td>LEEKKVCQGTSNKLTQLGTFEDHFLSLQRMFNNCEVVLGNLEITYV...</td>\n",
       "      <td>50</td>\n",
       "      <td>622</td>\n",
       "      <td>1</td>\n",
       "      <td>37.0852</td>\n",
       "      <td>12.068828</td>\n",
       "      <td>22.015410</td>\n",
       "      <td>0.60</td>\n",
       "      <td>MODEL     1                                   ...</td>\n",
       "      <td>A2S,G8S,F10Y,P15L,T21M,T26L,C28S,F29Y,E32N,L34...</td>\n",
       "    </tr>\n",
       "    <tr>\n",
       "      <th>1</th>\n",
       "      <td>9fc068</td>\n",
       "      <td>NSLPCCPSSHGGYGLNGGVCCNIESTDTFECACVPGYSGDRPQTRV...</td>\n",
       "      <td>LEEKKVCQGTSNKLTQLGTFEDHFLSLQRMFNNCEVVLGNLEITYV...</td>\n",
       "      <td>50</td>\n",
       "      <td>622</td>\n",
       "      <td>1</td>\n",
       "      <td>56.5372</td>\n",
       "      <td>8.842028</td>\n",
       "      <td>16.364958</td>\n",
       "      <td>0.68</td>\n",
       "      <td>MODEL     1                                   ...</td>\n",
       "      <td>L3Y,C5G,H10Y,G11D,G14C,C21M,N22H,T26L,T28S,F29...</td>\n",
       "    </tr>\n",
       "    <tr>\n",
       "      <th>2</th>\n",
       "      <td>9430c3</td>\n",
       "      <td>NSTECAPGSAGGHPGNAGVCCHVNSTDTFKCACLPGYYGDRPVNSV...</td>\n",
       "      <td>LEEKKVCQGTSNKLTQLGTFEDHFLSLQRMFNNCEVVLGNLEITYV...</td>\n",
       "      <td>50</td>\n",
       "      <td>622</td>\n",
       "      <td>1</td>\n",
       "      <td>30.4460</td>\n",
       "      <td>13.991156</td>\n",
       "      <td>21.947171</td>\n",
       "      <td>0.64</td>\n",
       "      <td>MODEL     1                                   ...</td>\n",
       "      <td>T3Y,E4P,C5G,A6C,G8S,A10Y,G11D,H13Y,P14C,G15L,A...</td>\n",
       "    </tr>\n",
       "    <tr>\n",
       "      <th>3</th>\n",
       "      <td>149cbb</td>\n",
       "      <td>NSYPGLPNNPDGYCPNGGVCMSIDSTDSYTCCCTHGYHGDRCATRD...</td>\n",
       "      <td>LEEKKVCQGTSNKLTQLGTFEDHFLSLQRMFNNCEVVLGNLEITYV...</td>\n",
       "      <td>50</td>\n",
       "      <td>622</td>\n",
       "      <td>1</td>\n",
       "      <td>57.8370</td>\n",
       "      <td>9.141732</td>\n",
       "      <td>16.006051</td>\n",
       "      <td>0.70</td>\n",
       "      <td>MODEL     1                                   ...</td>\n",
       "      <td>L6C,N8S,N9S,P10Y,P15L,S22H,D24E,T26L,C32N,T34V...</td>\n",
       "    </tr>\n",
       "    <tr>\n",
       "      <th>4</th>\n",
       "      <td>e20ea1</td>\n",
       "      <td>NSTGCAPGSGGGLPGNHGVCCHVVSTDTFQCACLPGYSGDRPQNSV...</td>\n",
       "      <td>LEEKKVCQGTSNKLTQLGTFEDHFLSLQRMFNNCEVVLGNLEITYV...</td>\n",
       "      <td>50</td>\n",
       "      <td>622</td>\n",
       "      <td>1</td>\n",
       "      <td>27.8352</td>\n",
       "      <td>14.069144</td>\n",
       "      <td>23.577893</td>\n",
       "      <td>0.57</td>\n",
       "      <td>MODEL     1                                   ...</td>\n",
       "      <td>T3Y,G4P,C5G,A6C,G8S,G10Y,G11D,L13Y,P14C,G15L,H...</td>\n",
       "    </tr>\n",
       "    <tr>\n",
       "      <th>5</th>\n",
       "      <td>94b29d</td>\n",
       "      <td>NSYPCCPSSYGGSCLNGGVCEHIESTDNYTCACKPGYYGDRPLNSV...</td>\n",
       "      <td>LEEKKVCQGTSNKLTQLGTFEDHFLSLQRMFNNCEVVLGNLEITYV...</td>\n",
       "      <td>50</td>\n",
       "      <td>622</td>\n",
       "      <td>1</td>\n",
       "      <td>35.1764</td>\n",
       "      <td>12.529700</td>\n",
       "      <td>21.267938</td>\n",
       "      <td>0.66</td>\n",
       "      <td>MODEL     1                                   ...</td>\n",
       "      <td>C5G,G11D,S13Y,E21M,T26L,N28S,A32N,K34V,P35I,Y3...</td>\n",
       "    </tr>\n",
       "    <tr>\n",
       "      <th>6</th>\n",
       "      <td>99a35e</td>\n",
       "      <td>GSYPDCASSCTGYCPNGGVCMAIESTDSFTCKCVPGYSGDRPHTSV...</td>\n",
       "      <td>LEEKKVCQGTSNKLTQLGTFEDHFLSLQRMFNNCEVVLGNLEITYV...</td>\n",
       "      <td>50</td>\n",
       "      <td>622</td>\n",
       "      <td>1</td>\n",
       "      <td>45.2740</td>\n",
       "      <td>12.152336</td>\n",
       "      <td>18.508359</td>\n",
       "      <td>0.70</td>\n",
       "      <td>MODEL     1                                   ...</td>\n",
       "      <td>G1N,D5G,A7P,C10Y,T11D,P15L,A22H,T26L,F29Y,K32N...</td>\n",
       "    </tr>\n",
       "    <tr>\n",
       "      <th>7</th>\n",
       "      <td>839eac</td>\n",
       "      <td>NSYPCCPSSYGGYCPNGGVCEHIESTDSFTCACKPGYSGDRPHTSV...</td>\n",
       "      <td>LEEKKVCQGTSNKLTQLGTFEDHFLSLQRMFNNCEVVLGNLEITYV...</td>\n",
       "      <td>50</td>\n",
       "      <td>622</td>\n",
       "      <td>1</td>\n",
       "      <td>51.9468</td>\n",
       "      <td>10.576700</td>\n",
       "      <td>17.104109</td>\n",
       "      <td>0.71</td>\n",
       "      <td>MODEL     1                                   ...</td>\n",
       "      <td>C5G,G11D,P15L,E21M,T26L,F29Y,A32N,K34V,P35I,P4...</td>\n",
       "    </tr>\n",
       "    <tr>\n",
       "      <th>8</th>\n",
       "      <td>74506d</td>\n",
       "      <td>NSTLCAPGSGGGAPGNGGVCMHINSTDTFQCACLPGYSGDRPQNSV...</td>\n",
       "      <td>LEEKKVCQGTSNKLTQLGTFEDHFLSLQRMFNNCEVVLGNLEITYV...</td>\n",
       "      <td>50</td>\n",
       "      <td>622</td>\n",
       "      <td>1</td>\n",
       "      <td>29.3748</td>\n",
       "      <td>13.723640</td>\n",
       "      <td>23.481551</td>\n",
       "      <td>0.55</td>\n",
       "      <td>MODEL     1                                   ...</td>\n",
       "      <td>T3Y,L4P,C5G,A6C,G8S,G10Y,G11D,A13Y,P14C,G15L,N...</td>\n",
       "    </tr>\n",
       "    <tr>\n",
       "      <th>9</th>\n",
       "      <td>2b92d8</td>\n",
       "      <td>NSYPDCPSSCGGYCPNGGVCKAVESTDCFTCACVPGYSGDRPHTSI...</td>\n",
       "      <td>LEEKKVCQGTSNKLTQLGTFEDHFLSLQRMFNNCEVVLGNLEITYV...</td>\n",
       "      <td>50</td>\n",
       "      <td>622</td>\n",
       "      <td>1</td>\n",
       "      <td>47.2914</td>\n",
       "      <td>12.001808</td>\n",
       "      <td>18.026546</td>\n",
       "      <td>0.71</td>\n",
       "      <td>MODEL     1                                   ...</td>\n",
       "      <td>D5G,C10Y,G11D,P15L,K21M,A22H,V23I,T26L,C28S,F2...</td>\n",
       "    </tr>\n",
       "  </tbody>\n",
       "</table>\n",
       "</div>"
      ],
      "text/plain": [
       "  seq_name                                    binder_sequence  \\\n",
       "0   1d1721  NAYPGCPGSFDGYCPNGGVCTHIESTDCFTCECLPGYSGDTVHTRA...   \n",
       "1   9fc068  NSLPCCPSSHGGYGLNGGVCCNIESTDTFECACVPGYSGDRPQTRV...   \n",
       "2   9430c3  NSTECAPGSAGGHPGNAGVCCHVNSTDTFKCACLPGYYGDRPVNSV...   \n",
       "3   149cbb  NSYPGLPNNPDGYCPNGGVCMSIDSTDSYTCCCTHGYHGDRCATRD...   \n",
       "4   e20ea1  NSTGCAPGSGGGLPGNHGVCCHVVSTDTFQCACLPGYSGDRPQNSV...   \n",
       "5   94b29d  NSYPCCPSSYGGSCLNGGVCEHIESTDNYTCACKPGYYGDRPLNSV...   \n",
       "6   99a35e  GSYPDCASSCTGYCPNGGVCMAIESTDSFTCKCVPGYSGDRPHTSV...   \n",
       "7   839eac  NSYPCCPSSYGGYCPNGGVCEHIESTDSFTCACKPGYSGDRPHTSV...   \n",
       "8   74506d  NSTLCAPGSGGGAPGNGGVCMHINSTDTFQCACLPGYSGDRPQNSV...   \n",
       "9   2b92d8  NSYPDCPSSCGGYCPNGGVCKAVESTDCFTCACVPGYSGDRPHTSI...   \n",
       "\n",
       "                                     target_sequence  binder_length  \\\n",
       "0  LEEKKVCQGTSNKLTQLGTFEDHFLSLQRMFNNCEVVLGNLEITYV...             50   \n",
       "1  LEEKKVCQGTSNKLTQLGTFEDHFLSLQRMFNNCEVVLGNLEITYV...             50   \n",
       "2  LEEKKVCQGTSNKLTQLGTFEDHFLSLQRMFNNCEVVLGNLEITYV...             50   \n",
       "3  LEEKKVCQGTSNKLTQLGTFEDHFLSLQRMFNNCEVVLGNLEITYV...             50   \n",
       "4  LEEKKVCQGTSNKLTQLGTFEDHFLSLQRMFNNCEVVLGNLEITYV...             50   \n",
       "5  LEEKKVCQGTSNKLTQLGTFEDHFLSLQRMFNNCEVVLGNLEITYV...             50   \n",
       "6  LEEKKVCQGTSNKLTQLGTFEDHFLSLQRMFNNCEVVLGNLEITYV...             50   \n",
       "7  LEEKKVCQGTSNKLTQLGTFEDHFLSLQRMFNNCEVVLGNLEITYV...             50   \n",
       "8  LEEKKVCQGTSNKLTQLGTFEDHFLSLQRMFNNCEVVLGNLEITYV...             50   \n",
       "9  LEEKKVCQGTSNKLTQLGTFEDHFLSLQRMFNNCEVVLGNLEITYV...             50   \n",
       "\n",
       "   target_length  model_number  binder_plddt  binder_pae  pae_interaction  \\\n",
       "0            622             1       37.0852   12.068828        22.015410   \n",
       "1            622             1       56.5372    8.842028        16.364958   \n",
       "2            622             1       30.4460   13.991156        21.947171   \n",
       "3            622             1       57.8370    9.141732        16.006051   \n",
       "4            622             1       27.8352   14.069144        23.577893   \n",
       "5            622             1       35.1764   12.529700        21.267938   \n",
       "6            622             1       45.2740   12.152336        18.508359   \n",
       "7            622             1       51.9468   10.576700        17.104109   \n",
       "8            622             1       29.3748   13.723640        23.481551   \n",
       "9            622             1       47.2914   12.001808        18.026546   \n",
       "\n",
       "    ptm                                        pdb_content  \\\n",
       "0  0.60  MODEL     1                                   ...   \n",
       "1  0.68  MODEL     1                                   ...   \n",
       "2  0.64  MODEL     1                                   ...   \n",
       "3  0.70  MODEL     1                                   ...   \n",
       "4  0.57  MODEL     1                                   ...   \n",
       "5  0.66  MODEL     1                                   ...   \n",
       "6  0.70  MODEL     1                                   ...   \n",
       "7  0.71  MODEL     1                                   ...   \n",
       "8  0.55  MODEL     1                                   ...   \n",
       "9  0.71  MODEL     1                                   ...   \n",
       "\n",
       "                                             mut_str  \n",
       "0  A2S,G8S,F10Y,P15L,T21M,T26L,C28S,F29Y,E32N,L34...  \n",
       "1  L3Y,C5G,H10Y,G11D,G14C,C21M,N22H,T26L,T28S,F29...  \n",
       "2  T3Y,E4P,C5G,A6C,G8S,A10Y,G11D,H13Y,P14C,G15L,A...  \n",
       "3  L6C,N8S,N9S,P10Y,P15L,S22H,D24E,T26L,C32N,T34V...  \n",
       "4  T3Y,G4P,C5G,A6C,G8S,G10Y,G11D,L13Y,P14C,G15L,H...  \n",
       "5  C5G,G11D,S13Y,E21M,T26L,N28S,A32N,K34V,P35I,Y3...  \n",
       "6  G1N,D5G,A7P,C10Y,T11D,P15L,A22H,T26L,F29Y,K32N...  \n",
       "7  C5G,G11D,P15L,E21M,T26L,F29Y,A32N,K34V,P35I,P4...  \n",
       "8  T3Y,L4P,C5G,A6C,G8S,G10Y,G11D,A13Y,P14C,G15L,N...  \n",
       "9  D5G,C10Y,G11D,P15L,K21M,A22H,V23I,T26L,C28S,F2...  "
      ]
     },
     "execution_count": 56,
     "metadata": {},
     "output_type": "execute_result"
    }
   ],
   "source": [
    "fold_df"
   ]
  }
 ],
 "metadata": {
  "kernelspec": {
   "display_name": "binder-design-UuRsV0QS-py3.10",
   "language": "python",
   "name": "python3"
  },
  "language_info": {
   "codemirror_mode": {
    "name": "ipython",
    "version": 3
   },
   "file_extension": ".py",
   "mimetype": "text/x-python",
   "name": "python",
   "nbconvert_exporter": "python",
   "pygments_lexer": "ipython3",
   "version": "3.10.8"
  }
 },
 "nbformat": 4,
 "nbformat_minor": 2
}
